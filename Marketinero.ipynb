{
 "cells": [
  {
   "cell_type": "markdown",
   "metadata": {},
   "source": [
    "# Dataset: Marketing\n",
    "----"
   ]
  },
  {
   "cell_type": "markdown",
   "metadata": {},
   "source": [
    "Cada fila representa un encuestado, cada columna contiene atributos de este. \n",
    "\n",
    "La columna *y* indica si el encuestado acepto la oferta de marketing.\n",
    "\n",
    "prospectos | atributos\n",
    ":----:     | :----:\n",
    "41128      | 21\n"
   ]
  },
  {
   "cell_type": "markdown",
   "metadata": {},
   "source": [
    "# Variables\n",
    "\n",
    "Nombre   |  Posibles valores\n",
    ":------- |  :---:\n",
    "age  | ( ... )\n",
    "job  | ( housemaid, services, admin., blue-collar, technician, retired, management, unemployed, self-employed, unknown, entrepreneur, student)\n",
    "marital  | (married, single, divorced, unknown)\n",
    "education  | (basic.4y, high.school, basic.6y, basic.9y, professional.course, unknown, university.degree, illiterate)\n",
    "default  | (no, unknown, yes)\n",
    "housing  | (no, yes, unknown)\n",
    "loan  | (no, yes, unknown)\n",
    "contact  | (telephone, cellular)\n",
    "month  | (may, jun, jul, aug, oct, nov, dec, mar, apr, sep)\n",
    "day_of_week  | ( ... )\n",
    "duration  | ( ... )\n",
    "campaign  | ( ... )\n",
    "pdays  | ( ... )\n",
    "previous  | ( ... )\n",
    "poutcome  | (nonexistent, failure, success)\n",
    "emp.var.rate  | ( ... )\n",
    "cons.price.idx  | ( ... )\n",
    "cons.conf.idx  | ( ... )\n",
    "euribor3m  | ( ... )\n",
    "nr.employed  | ( ... )\n",
    "y  | (no, yes)"
   ]
  }
 ],
 "metadata": {
  "kernelspec": {
   "display_name": "Python 3.10.6 64-bit",
   "language": "python",
   "name": "python3"
  },
  "language_info": {
   "codemirror_mode": {
    "name": "ipython",
    "version": 3
   },
   "file_extension": ".py",
   "mimetype": "text/x-python",
   "name": "python",
   "nbconvert_exporter": "python",
   "pygments_lexer": "ipython3",
   "version": "3.10.6"
  },
  "vscode": {
   "interpreter": {
    "hash": "916dbcbb3f70747c44a77c7bcd40155683ae19c65e1c03b4aa3499c5328201f1"
   }
  }
 },
 "nbformat": 4,
 "nbformat_minor": 4
}
